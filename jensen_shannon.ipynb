{
 "cells": [
  {
   "cell_type": "code",
   "execution_count": null,
   "id": "e6bdfcfd",
   "metadata": {},
   "outputs": [],
   "source": [
    "import numpy as np\n",
    "from scipy.spatial.distance import jensenshannon"
   ]
  },
  {
   "cell_type": "code",
   "execution_count": 3,
   "id": "ed549ffd",
   "metadata": {},
   "outputs": [],
   "source": [
    "d1 = np.array([0.10, 0.20, 0.70])\n",
    "d2 = np.array([0.30, 0.30, 0.40])\n",
    "d3 = np.array([0.29, 0.32, 0.39])"
   ]
  },
  {
   "cell_type": "code",
   "execution_count": 40,
   "id": "79c531d7",
   "metadata": {},
   "outputs": [],
   "source": [
    "# kullback-leibler divergence\n",
    "def kld(p, q):\n",
    "\tepsilon = 1e-10 # Small value to avoid division by zero\n",
    "\treturn np.sum(p * (np.log2(p + epsilon) - np.log2(q + epsilon)))\n",
    "\n",
    "\n",
    "# jensen-shannon divergence\n",
    "def jsd(*args):\n",
    "    d = np.column_stack(args)\n",
    "    d0 = np.mean(d, axis=1)\n",
    "    klds = np.apply_along_axis(kld, 0, d, q=d0)\n",
    "    return np.sqrt(np.mean(klds)) \n",
    "\n",
    "\n",
    "assert jsd(d1, d2) == jsd(d2, d1)\n",
    "assert jsd(d1, d2) == jensenshannon(d1, d2, base=2)"
   ]
  },
  {
   "cell_type": "code",
   "execution_count": null,
   "id": "18ae8689",
   "metadata": {},
   "outputs": [
    {
     "name": "stdout",
     "output_type": "stream",
     "text": [
      "0.2736668758986993\n",
      "0.27779620360478624\n",
      "0.018426158580515044\n",
      "0.2584281829974536\n"
     ]
    }
   ],
   "source": [
    "print(jsd(d1, d2))\n",
    "print(jsd(d1, d3))\n",
    "print(jsd(d2, d3)) # most similar as expected\n",
    "print(jsd(d1, d2, d3))"
   ]
  }
 ],
 "metadata": {
  "kernelspec": {
   "display_name": ".venv",
   "language": "python",
   "name": "python3"
  },
  "language_info": {
   "codemirror_mode": {
    "name": "ipython",
    "version": 3
   },
   "file_extension": ".py",
   "mimetype": "text/x-python",
   "name": "python",
   "nbconvert_exporter": "python",
   "pygments_lexer": "ipython3",
   "version": "3.12.8"
  }
 },
 "nbformat": 4,
 "nbformat_minor": 5
}
